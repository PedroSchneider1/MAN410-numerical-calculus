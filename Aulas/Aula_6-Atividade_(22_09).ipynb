{
 "cells": [
  {
   "cell_type": "code",
   "execution_count": 1,
   "id": "1b700430",
   "metadata": {},
   "outputs": [],
   "source": [
    "import pandas as pd\n",
    "import numpy as np\n",
    "from sklearn.linear_model import LinearRegression\n",
    "from sklearn.metrics import r2_score\n",
    "import matplotlib.pyplot as plt\n",
    "from sklearn import datasets\n",
    "import seaborn as sns\n",
    "import statsmodels.formula.api as sm"
   ]
  },
  {
   "cell_type": "markdown",
   "id": "60a216fd",
   "metadata": {},
   "source": [
    "- a) Determinar o números de linhas do dataset. \n",
    "- b) Determinar o coeficiente de correlação entre as variáveis **Solids** e **Sulfate**.\n",
    "- c) Calcular o coeficiente angular e o coeficiente linear da reta `y(x)=ax+b`, sendo x a variável **Hardness** e y a variável **Solids**. Determinar o coeficiente de determinação R2 do ajuste.\n",
    "- d) Fazer uma regressão múltipla sendo y a variável dependente e x a variável independente. Definir como y a variável **Chloramines** e como x as variáveis: **Sulfate**, **Conductivity**, **Organic_carbon**. Calcular o coeficiente de determinação R2 e o valor do p_valor menos significativa. Usar três casas decimais."
   ]
  },
  {
   "cell_type": "code",
   "execution_count": 2,
   "id": "ee5a44e3",
   "metadata": {},
   "outputs": [
    {
     "name": "stdout",
     "output_type": "stream",
     "text": [
      "(a) Número de linhas e colunas: (3276, 10)\n"
     ]
    },
    {
     "data": {
      "text/html": [
       "<div>\n",
       "<style scoped>\n",
       "    .dataframe tbody tr th:only-of-type {\n",
       "        vertical-align: middle;\n",
       "    }\n",
       "\n",
       "    .dataframe tbody tr th {\n",
       "        vertical-align: top;\n",
       "    }\n",
       "\n",
       "    .dataframe thead th {\n",
       "        text-align: right;\n",
       "    }\n",
       "</style>\n",
       "<table border=\"1\" class=\"dataframe\">\n",
       "  <thead>\n",
       "    <tr style=\"text-align: right;\">\n",
       "      <th></th>\n",
       "      <th>ph</th>\n",
       "      <th>Hardness</th>\n",
       "      <th>Solids</th>\n",
       "      <th>Chloramines</th>\n",
       "      <th>Sulfate</th>\n",
       "      <th>Conductivity</th>\n",
       "      <th>Organic_carbon</th>\n",
       "      <th>Trihalomethanes</th>\n",
       "      <th>Turbidity</th>\n",
       "      <th>Potability</th>\n",
       "    </tr>\n",
       "  </thead>\n",
       "  <tbody>\n",
       "    <tr>\n",
       "      <th>0</th>\n",
       "      <td>NaN</td>\n",
       "      <td>204.890455</td>\n",
       "      <td>20791.318981</td>\n",
       "      <td>7.300212</td>\n",
       "      <td>368.516441</td>\n",
       "      <td>564.308654</td>\n",
       "      <td>10.379783</td>\n",
       "      <td>86.990970</td>\n",
       "      <td>2.963135</td>\n",
       "      <td>0</td>\n",
       "    </tr>\n",
       "    <tr>\n",
       "      <th>1</th>\n",
       "      <td>3.716080</td>\n",
       "      <td>129.422921</td>\n",
       "      <td>18630.057858</td>\n",
       "      <td>6.635246</td>\n",
       "      <td>NaN</td>\n",
       "      <td>592.885359</td>\n",
       "      <td>15.180013</td>\n",
       "      <td>56.329076</td>\n",
       "      <td>4.500656</td>\n",
       "      <td>0</td>\n",
       "    </tr>\n",
       "    <tr>\n",
       "      <th>2</th>\n",
       "      <td>8.099124</td>\n",
       "      <td>224.236259</td>\n",
       "      <td>19909.541732</td>\n",
       "      <td>9.275884</td>\n",
       "      <td>NaN</td>\n",
       "      <td>418.606213</td>\n",
       "      <td>16.868637</td>\n",
       "      <td>66.420093</td>\n",
       "      <td>3.055934</td>\n",
       "      <td>0</td>\n",
       "    </tr>\n",
       "    <tr>\n",
       "      <th>3</th>\n",
       "      <td>8.316766</td>\n",
       "      <td>214.373394</td>\n",
       "      <td>22018.417441</td>\n",
       "      <td>8.059332</td>\n",
       "      <td>356.886136</td>\n",
       "      <td>363.266516</td>\n",
       "      <td>18.436524</td>\n",
       "      <td>100.341674</td>\n",
       "      <td>4.628771</td>\n",
       "      <td>0</td>\n",
       "    </tr>\n",
       "    <tr>\n",
       "      <th>4</th>\n",
       "      <td>9.092223</td>\n",
       "      <td>181.101509</td>\n",
       "      <td>17978.986339</td>\n",
       "      <td>6.546600</td>\n",
       "      <td>310.135738</td>\n",
       "      <td>398.410813</td>\n",
       "      <td>11.558279</td>\n",
       "      <td>31.997993</td>\n",
       "      <td>4.075075</td>\n",
       "      <td>0</td>\n",
       "    </tr>\n",
       "  </tbody>\n",
       "</table>\n",
       "</div>"
      ],
      "text/plain": [
       "         ph    Hardness        Solids  Chloramines     Sulfate  Conductivity  \\\n",
       "0       NaN  204.890455  20791.318981     7.300212  368.516441    564.308654   \n",
       "1  3.716080  129.422921  18630.057858     6.635246         NaN    592.885359   \n",
       "2  8.099124  224.236259  19909.541732     9.275884         NaN    418.606213   \n",
       "3  8.316766  214.373394  22018.417441     8.059332  356.886136    363.266516   \n",
       "4  9.092223  181.101509  17978.986339     6.546600  310.135738    398.410813   \n",
       "\n",
       "   Organic_carbon  Trihalomethanes  Turbidity  Potability  \n",
       "0       10.379783        86.990970   2.963135           0  \n",
       "1       15.180013        56.329076   4.500656           0  \n",
       "2       16.868637        66.420093   3.055934           0  \n",
       "3       18.436524       100.341674   4.628771           0  \n",
       "4       11.558279        31.997993   4.075075           0  "
      ]
     },
     "execution_count": 2,
     "metadata": {},
     "output_type": "execute_result"
    }
   ],
   "source": [
    "# 1)a)\n",
    "df = pd.read_csv('Aula6_water_potability.csv', header=(0))\n",
    "print(f\"(a) Número de linhas e colunas: {df.shape}\")\n",
    "df.head(5)"
   ]
  },
  {
   "cell_type": "code",
   "execution_count": 3,
   "id": "cae679a9",
   "metadata": {},
   "outputs": [
    {
     "data": {
      "text/plain": [
       "['ph',\n",
       " 'Hardness',\n",
       " 'Solids',\n",
       " 'Chloramines',\n",
       " 'Sulfate',\n",
       " 'Conductivity',\n",
       " 'Organic_carbon',\n",
       " 'Trihalomethanes',\n",
       " 'Turbidity',\n",
       " 'Potability']"
      ]
     },
     "execution_count": 3,
     "metadata": {},
     "output_type": "execute_result"
    }
   ],
   "source": [
    "list([x.replace('.','') for x in df.columns])"
   ]
  },
  {
   "cell_type": "code",
   "execution_count": 4,
   "id": "c204ab61",
   "metadata": {},
   "outputs": [
    {
     "name": "stdout",
     "output_type": "stream",
     "text": [
      "(b) correlacao entre 'Solids' e 'Sulfate': -0.16\n"
     ]
    }
   ],
   "source": [
    "# 1)b)\n",
    "df = df.dropna()\n",
    "\n",
    "y = df.loc[:,'Solids']\n",
    "x = df.loc[:,'Sulfate']\n",
    "correlacao = np.corrcoef(x, y)\n",
    "print(f\"(b) correlacao entre 'Solids' e 'Sulfate': {correlacao[1][0]:.2f}\")"
   ]
  },
  {
   "cell_type": "code",
   "execution_count": 5,
   "id": "27912538",
   "metadata": {},
   "outputs": [
    {
     "name": "stdout",
     "output_type": "stream",
     "text": [
      "(c) coeficiente angular a1: -14.11\n",
      "coeficiente linear a0: 24681.84\n",
      "R2 Score: 0.00\n"
     ]
    }
   ],
   "source": [
    "# 1)c)\n",
    "\n",
    "x = np.array(df.loc[:,'Hardness'])\n",
    "y = np.array(df.loc[:,'Solids'])\n",
    "\n",
    "n = np.size(x)\n",
    "Sx= np.sum(x)\n",
    "Sy=np.sum(y)\n",
    "Sxy=np.sum(x*y)\n",
    "Sxx=np.sum(x*x)\n",
    "a1=(n*Sxy-Sx*Sy)/(n*Sxx-Sx**2)   #Calcula o coeficiente angular a1 da reta\n",
    "a0=(Sxx*Sy-Sxy*Sx)/(n*Sxx-Sx**2) #Calcula o coeficiente linear a0 da reta\n",
    "\n",
    "x_R = x.reshape(-1, 1)\n",
    "modelo = LinearRegression().fit(x_R, y)\n",
    "R2 = r2_score(y, modelo.predict(x_R))\n",
    "\n",
    "print(f\"(c) coeficiente angular a1: {a1:.2f}\")\n",
    "print(f\"coeficiente linear a0: {a0:.2f}\")\n",
    "print(f'R2 Score: {R2:.2f}')"
   ]
  },
  {
   "cell_type": "code",
   "execution_count": 6,
   "id": "f4db08c3",
   "metadata": {},
   "outputs": [
    {
     "name": "stdout",
     "output_type": "stream",
     "text": [
      "(d) R2: 0.001\n",
      "p-valor menos significativo: 0.773\n"
     ]
    }
   ],
   "source": [
    "# 1)d)\n",
    "\n",
    "model = sm.ols(formula=\"Chloramines ~ Sulfate + Conductivity + Organic_carbon\", data=df)\n",
    "result = model.fit()\n",
    "print(f\"(d) R2: {result.rsquared:.3f}\")\n",
    "print(f\"p-valor menos significativo: {max(result.pvalues[1:]):.3f}\")"
   ]
  },
  {
   "cell_type": "code",
   "execution_count": null,
   "id": "590fc813",
   "metadata": {},
   "outputs": [],
   "source": []
  }
 ],
 "metadata": {
  "kernelspec": {
   "display_name": "Python 3 (ipykernel)",
   "language": "python",
   "name": "python3"
  },
  "language_info": {
   "codemirror_mode": {
    "name": "ipython",
    "version": 3
   },
   "file_extension": ".py",
   "mimetype": "text/x-python",
   "name": "python",
   "nbconvert_exporter": "python",
   "pygments_lexer": "ipython3",
   "version": "3.9.13"
  }
 },
 "nbformat": 4,
 "nbformat_minor": 5
}
