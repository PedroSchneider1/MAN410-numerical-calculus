{
 "cells": [
  {
   "cell_type": "code",
   "execution_count": 1,
   "id": "dc7be129",
   "metadata": {},
   "outputs": [],
   "source": [
    "import numpy as np\n",
    "import matplotlib.pyplot as plt\n",
    "import sympy as sy\n",
    "from scipy.interpolate import lagrange\n",
    "from numpy.polynomial.polynomial import Polynomial"
   ]
  },
  {
   "cell_type": "markdown",
   "id": "5ce50026",
   "metadata": {},
   "source": [
    "A tabela a seguir, encontramos valores obtidos experimentalmente que relacionam tensão e deformação em uma barra\n",
    "de determinado material. \n",
    "\n",
    "| **Tensão (x)**     |  10  |  20  |  30  |  40  |\n",
    "|--------------------|:----:|:----:|:----:|:----:|\n",
    "| **Deformação (y)** | 0.19 | 0.57 | 0.94 | 0.99 |\n",
    "\n",
    "\n",
    "*tensão (x) ( lbf/pol2) =10; 20; 30; 40.  \n",
    "*deformação ( y )(10³mm)= 0.19; 0.57; 0.94; 0.99\n",
    "\n",
    "Pede-se:"
   ]
  },
  {
   "cell_type": "code",
   "execution_count": 2,
   "id": "38c8c749",
   "metadata": {},
   "outputs": [],
   "source": [
    "x=[10, 20, 30, 40]\n",
    "y=[0.19, 0.57, 0.94, 0.99]"
   ]
  },
  {
   "cell_type": "code",
   "execution_count": 3,
   "id": "d6a42b71",
   "metadata": {},
   "outputs": [
    {
     "name": "stdout",
     "output_type": "stream",
     "text": [
      "[-5.16666667e-05  3.05000000e-03 -1.73333333e-02  1.10000000e-01]\n",
      "ax³:  -0.0\n",
      "bx²: 0.003\n",
      "cx: -0.017\n",
      "d:    0.11\n"
     ]
    }
   ],
   "source": [
    "# a) o polinômio os coeficientes interpolador de Lagrange usando todos os pontos. Usar três casas decimais.\n",
    "x = np.array(x)\n",
    "y = np.array(y)\n",
    "poly = lagrange(x, y)\n",
    "coefs = Polynomial(poly).coef\n",
    "print(f'{coefs}')\n",
    "\n",
    "print(f'ax³: {round(coefs[0], 3):>5}')\n",
    "print(f'bx²: {round(coefs[1], 3):>5}')\n",
    "print(f'cx: {round(coefs[2], 3):>5}')\n",
    "print(f'd: {round(coefs[3], 3):>7}')"
   ]
  },
  {
   "cell_type": "code",
   "execution_count": 4,
   "id": "f457a797",
   "metadata": {},
   "outputs": [
    {
     "name": "stdout",
     "output_type": "stream",
     "text": [
      "y: 0.78\n"
     ]
    }
   ],
   "source": [
    "# b) o valor da deformação para uma tensão de 25 lbf/pol2. Usar duas casas decimais.\n",
    "print(f'y: {poly(25):.2f}')"
   ]
  },
  {
   "cell_type": "code",
   "execution_count": 5,
   "id": "d2e85a46",
   "metadata": {},
   "outputs": [
    {
     "name": "stdout",
     "output_type": "stream",
     "text": [
      "y: 1.02\n"
     ]
    }
   ],
   "source": [
    "# c) o valor da deformação para uma tensão de 35 lpf/pol2 usando interp. Usar duas casas decimais.\n",
    "print(f'y: {poly(35):.2f}')"
   ]
  },
  {
   "cell_type": "code",
   "execution_count": 6,
   "id": "4c005092",
   "metadata": {},
   "outputs": [
    {
     "name": "stdout",
     "output_type": "stream",
     "text": [
      "[ 41.19225594  30.80498407 -12.96498195]\n",
      "x: 30.80\n"
     ]
    }
   ],
   "source": [
    "# d) o valor da tensão para deformação de 0.96. Usar duas casas decimais.\n",
    "p = np.poly1d(poly)\n",
    "r = np.roots(p-0.96)\n",
    "print(r)\n",
    "print(f'x: {r[1]:.2f}')"
   ]
  },
  {
   "cell_type": "code",
   "execution_count": 7,
   "id": "f0c2a4d0",
   "metadata": {},
   "outputs": [
    {
     "data": {
      "image/png": "[encoded data removed]",
      "text/plain": [
       "<Figure size 640x480 with 1 Axes>"
      ]
     },
     "metadata": {},
     "output_type": "display_data"
    }
   ],
   "source": [
    "t = np.linspace(0, 140, 200) \n",
    "plt.plot(x, y, 'o', t, p(t), '-') \n",
    "plt.show()"
   ]
  },
  {
   "cell_type": "code",
   "execution_count": null,
   "id": "3adf425d",
   "metadata": {},
   "outputs": [],
   "source": []
  }
 ],
 "metadata": {
  "kernelspec": {
   "display_name": "Python 3 (ipykernel)",
   "language": "python",
   "name": "python3"
  },
  "language_info": {
   "codemirror_mode": {
    "name": "ipython",
    "version": 3
   },
   "file_extension": ".py",
   "mimetype": "text/x-python",
   "name": "python",
   "nbconvert_exporter": "python",
   "pygments_lexer": "ipython3",
   "version": "3.9.13"
  }
 },
 "nbformat": 4,
 "nbformat_minor": 5
}
