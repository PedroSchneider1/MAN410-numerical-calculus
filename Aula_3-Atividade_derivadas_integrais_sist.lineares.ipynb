{
 "cells": [
  {
   "cell_type": "code",
   "execution_count": 6,
   "id": "5023904a",
   "metadata": {},
   "outputs": [],
   "source": [
    "import numpy as np\n",
    "import sympy as sp"
   ]
  },
  {
   "cell_type": "code",
   "execution_count": 9,
   "id": "2da3af3a",
   "metadata": {},
   "outputs": [],
   "source": [
    "x,y = sp.symbols('x y')"
   ]
  },
  {
   "cell_type": "code",
   "execution_count": 29,
   "id": "90fba34a",
   "metadata": {},
   "outputs": [
    {
     "name": "stdout",
     "output_type": "stream",
     "text": [
      "(-x**2/(x**2 + 1) + 1)/sqrt(x**2 + 1)\n",
      "Resposta: 0.03\n"
     ]
    }
   ],
   "source": [
    "# 1\n",
    "expr=sp.sqrt(x**2+1)\n",
    "d=sp.diff(expr,x,2)\n",
    "print(d)\n",
    "print(\"Resposta:\", d.subs(x,3).evalf(1))"
   ]
  },
  {
   "cell_type": "code",
   "execution_count": 34,
   "id": "da81999a",
   "metadata": {},
   "outputs": [
    {
     "name": "stdout",
     "output_type": "stream",
     "text": [
      "Resposta: \n"
     ]
    },
    {
     "data": {
      "text/latex": [
       "$\\displaystyle \\frac{7}{6}$"
      ],
      "text/plain": [
       "7/6"
      ]
     },
     "execution_count": 34,
     "metadata": {},
     "output_type": "execute_result"
    }
   ],
   "source": [
    "# 2\n",
    "y=(x**3+x)*(sp.sqrt(x**4+2*x**2+1))\n",
    "print(\"Resposta: \")\n",
    "sp.integrate(y,(x,0,1))"
   ]
  },
  {
   "cell_type": "code",
   "execution_count": 54,
   "id": "33d59377",
   "metadata": {},
   "outputs": [
    {
     "name": "stdout",
     "output_type": "stream",
     "text": [
      "-3.0\n",
      "Resposta:\n",
      "X:5\n"
     ]
    }
   ],
   "source": [
    "# 3\n",
    "sistema=np.matrix([[1,1,-1],[1,-1,-2],[1,2,1]])\n",
    "respostas=np.matrix([[0],[1],[4]])\n",
    "print(round(np.linalg.det(sistema),2))\n",
    "sol=np.linalg.solve(sistema,respostas)\n",
    "print(f\"Resposta:\\nX: {int(sol[0])}\\nY: {int(sol[1])}\\nZ: {int(sol[0])}\")"
   ]
  },
  {
   "cell_type": "code",
   "execution_count": null,
   "id": "94a79dc9",
   "metadata": {},
   "outputs": [],
   "source": []
  }
 ],
 "metadata": {
  "kernelspec": {
   "display_name": "Python 3 (ipykernel)",
   "language": "python",
   "name": "python3"
  },
  "language_info": {
   "codemirror_mode": {
    "name": "ipython",
    "version": 3
   },
   "file_extension": ".py",
   "mimetype": "text/x-python",
   "name": "python",
   "nbconvert_exporter": "python",
   "pygments_lexer": "ipython3",
   "version": "3.9.13"
  }
 },
 "nbformat": 4,
 "nbformat_minor": 5
}
