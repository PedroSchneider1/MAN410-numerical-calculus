{
 "cells": [
  {
   "cell_type": "markdown",
   "id": "71eb6e61",
   "metadata": {},
   "source": [
    "# QUESTÃO 1"
   ]
  },
  {
   "cell_type": "code",
   "execution_count": 1,
   "id": "875a15f8",
   "metadata": {},
   "outputs": [],
   "source": [
    "import numpy as np\n",
    "import sympy as sp"
   ]
  },
  {
   "cell_type": "code",
   "execution_count": 2,
   "id": "530fdb8a",
   "metadata": {},
   "outputs": [],
   "source": [
    "x = sp.symbols('x')\n",
    "\n",
    "expr = (x**2-2*x)/(sp.cos(x))"
   ]
  },
  {
   "cell_type": "code",
   "execution_count": 3,
   "id": "0b2ca65c",
   "metadata": {},
   "outputs": [],
   "source": [
    "def f(x):\n",
    "    return (x**2-2*x)/np.cos(x)"
   ]
  },
  {
   "cell_type": "markdown",
   "id": "e6b13c1f",
   "metadata": {},
   "source": [
    "# RESPOSTAS 1"
   ]
  },
  {
   "cell_type": "code",
   "execution_count": 4,
   "id": "6b39ee6e",
   "metadata": {},
   "outputs": [
    {
     "name": "stdout",
     "output_type": "stream",
     "text": [
      "usando numpy:  -1.850815717680926\n",
      "usando sympy:  -1.85081571768093\n"
     ]
    }
   ],
   "source": [
    "# 1a\n",
    "print(\"usando numpy: \", f(1))\n",
    "print(\"usando sympy: \", expr.subs(x,1).evalf())"
   ]
  },
  {
   "cell_type": "code",
   "execution_count": 5,
   "id": "dc85cc20",
   "metadata": {},
   "outputs": [
    {
     "name": "stdout",
     "output_type": "stream",
     "text": [
      "-69.1448880972126\n"
     ]
    }
   ],
   "source": [
    "# 1b\n",
    "print(sp.limit(expr,x,9).evalf())"
   ]
  },
  {
   "cell_type": "code",
   "execution_count": 6,
   "id": "72d0e793",
   "metadata": {},
   "outputs": [
    {
     "name": "stdout",
     "output_type": "stream",
     "text": [
      "(2*x - 2)/cos(x) + (x**2 - 2*x)*sin(x)/cos(x)**2\n"
     ]
    }
   ],
   "source": [
    "# 1c\n",
    "print(sp.diff(expr,x))"
   ]
  },
  {
   "cell_type": "markdown",
   "id": "5cabc600",
   "metadata": {},
   "source": [
    "# QUESTÃO 2"
   ]
  },
  {
   "cell_type": "code",
   "execution_count": 7,
   "id": "21031e19",
   "metadata": {},
   "outputs": [],
   "source": [
    "A = np.array([[1,0,1],[1,2,3],[1,2,4]])\n",
    "B = np.array([[3,1,4],[1,2,1],[3,1,1]])"
   ]
  },
  {
   "cell_type": "markdown",
   "id": "b5a9e594",
   "metadata": {},
   "source": [
    "# RESPOSTAS 2"
   ]
  },
  {
   "cell_type": "code",
   "execution_count": 8,
   "id": "27f6188d",
   "metadata": {},
   "outputs": [
    {
     "name": "stdout",
     "output_type": "stream",
     "text": [
      "2.0\n"
     ]
    }
   ],
   "source": [
    "# 2a\n",
    "det_A = np.linalg.det(A)\n",
    "print(det_A)"
   ]
  },
  {
   "cell_type": "code",
   "execution_count": 9,
   "id": "c74c8b31",
   "metadata": {},
   "outputs": [
    {
     "name": "stdout",
     "output_type": "stream",
     "text": [
      "[[-0.06666667 -0.2         0.46666667]\n",
      " [-0.13333333  0.6        -0.06666667]\n",
      " [ 0.33333333 -0.         -0.33333333]]\n"
     ]
    }
   ],
   "source": [
    "# 2b\n",
    "inv_B = np.linalg.inv(B)\n",
    "print(inv_B)"
   ]
  },
  {
   "cell_type": "code",
   "execution_count": 10,
   "id": "d33add43",
   "metadata": {},
   "outputs": [
    {
     "name": "stdout",
     "output_type": "stream",
     "text": [
      "[[1 1 1]\n",
      " [0 2 2]\n",
      " [1 3 4]]\n"
     ]
    }
   ],
   "source": [
    "# 2c\n",
    "t_A = A.T\n",
    "print(t_A)"
   ]
  },
  {
   "cell_type": "code",
   "execution_count": 11,
   "id": "a074f004",
   "metadata": {},
   "outputs": [
    {
     "name": "stdout",
     "output_type": "stream",
     "text": [
      "[[ 6  2  5]\n",
      " [14  8  9]\n",
      " [17  9 10]]\n"
     ]
    }
   ],
   "source": [
    "# 2d\n",
    "AB = np.dot(A,B)\n",
    "print(AB)"
   ]
  },
  {
   "cell_type": "code",
   "execution_count": 12,
   "id": "ad88d151",
   "metadata": {},
   "outputs": [
    {
     "name": "stdout",
     "output_type": "stream",
     "text": [
      "[[-11  -4 -15]\n",
      " [ -3  -6  -1]\n",
      " [-11  -2   0]]\n"
     ]
    }
   ],
   "source": [
    "# 2e\n",
    "mult = A-(4*B)\n",
    "print(mult)"
   ]
  },
  {
   "cell_type": "code",
   "execution_count": null,
   "id": "0f7d7c15",
   "metadata": {},
   "outputs": [],
   "source": []
  }
 ],
 "metadata": {
  "kernelspec": {
   "display_name": "Python 3 (ipykernel)",
   "language": "python",
   "name": "python3"
  },
  "language_info": {
   "codemirror_mode": {
    "name": "ipython",
    "version": 3
   },
   "file_extension": ".py",
   "mimetype": "text/x-python",
   "name": "python",
   "nbconvert_exporter": "python",
   "pygments_lexer": "ipython3",
   "version": "3.9.13"
  }
 },
 "nbformat": 4,
 "nbformat_minor": 5
}
