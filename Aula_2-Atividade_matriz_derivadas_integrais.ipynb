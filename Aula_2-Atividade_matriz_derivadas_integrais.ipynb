{
 "cells": [
  {
   "cell_type": "markdown",
   "id": "dd791614",
   "metadata": {},
   "source": [
    "# QUESTÃO 1"
   ]
  },
  {
   "cell_type": "code",
   "execution_count": 35,
   "id": "57fce8b9",
   "metadata": {},
   "outputs": [],
   "source": [
    "import numpy as np\n",
    "import sympy as sp"
   ]
  },
  {
   "cell_type": "code",
   "execution_count": 36,
   "id": "60d073a5",
   "metadata": {},
   "outputs": [],
   "source": [
    "x = sp.symbols('x')\n",
    "\n",
    "expr = (x**2-2*x)/(sp.cos(x))"
   ]
  },
  {
   "cell_type": "code",
   "execution_count": 37,
   "id": "19013d1e",
   "metadata": {},
   "outputs": [],
   "source": [
    "def f(x):\n",
    "    return (x**2-2*x)/np.cos(x)"
   ]
  },
  {
   "cell_type": "markdown",
   "id": "ca2ffd89",
   "metadata": {},
   "source": [
    "# RESPOSTAS 1"
   ]
  },
  {
   "cell_type": "code",
   "execution_count": 38,
   "id": "0fe72c63",
   "metadata": {},
   "outputs": [
    {
     "name": "stdout",
     "output_type": "stream",
     "text": [
      "usando numpy:  -1.850815717680926\n",
      "usando sympy:  -1.85081571768093\n"
     ]
    }
   ],
   "source": [
    "# 1a\n",
    "print(\"usando numpy: \", f(1))\n",
    "print(\"usando sympy: \", expr.subs(x,1).evalf())"
   ]
  },
  {
   "cell_type": "code",
   "execution_count": 39,
   "id": "b54e0280",
   "metadata": {},
   "outputs": [
    {
     "name": "stdout",
     "output_type": "stream",
     "text": [
      "-69.1448880972126\n"
     ]
    }
   ],
   "source": [
    "# 1b\n",
    "print(sp.limit(expr,x,9).evalf())"
   ]
  },
  {
   "cell_type": "code",
   "execution_count": 40,
   "id": "607aa7a1",
   "metadata": {},
   "outputs": [
    {
     "name": "stdout",
     "output_type": "stream",
     "text": [
      "(2*x - 2)/cos(x) + (x**2 - 2*x)*sin(x)/cos(x)**2\n"
     ]
    }
   ],
   "source": [
    "# 1c\n",
    "print(sp.diff(expr,x))"
   ]
  },
  {
   "cell_type": "markdown",
   "id": "69dbf21f",
   "metadata": {},
   "source": [
    "# QUESTÃO 2"
   ]
  },
  {
   "cell_type": "code",
   "execution_count": 49,
   "id": "b5124e04",
   "metadata": {},
   "outputs": [],
   "source": [
    "A = np.array([[1,0,1],[1,2,3],[1,2,4]])\n",
    "B = np.array([[3,1,4],[1,2,1],[3,1,1]])"
   ]
  },
  {
   "cell_type": "markdown",
   "id": "58673bbf",
   "metadata": {},
   "source": [
    "# RESPOSTAS 2"
   ]
  },
  {
   "cell_type": "code",
   "execution_count": 44,
   "id": "2a784d00",
   "metadata": {},
   "outputs": [
    {
     "name": "stdout",
     "output_type": "stream",
     "text": [
      "2.0\n"
     ]
    }
   ],
   "source": [
    "# 2a\n",
    "det_A = np.linalg.det(A)\n",
    "print(det_A)"
   ]
  },
  {
   "cell_type": "code",
   "execution_count": 45,
   "id": "483cb2d2",
   "metadata": {},
   "outputs": [
    {
     "name": "stdout",
     "output_type": "stream",
     "text": [
      "[[-0.06666667 -0.2         0.46666667]\n",
      " [-0.13333333  0.6        -0.06666667]\n",
      " [ 0.33333333 -0.         -0.33333333]]\n"
     ]
    }
   ],
   "source": [
    "# 2b\n",
    "inv_B = np.linalg.inv(B)\n",
    "print(inv_B)"
   ]
  },
  {
   "cell_type": "code",
   "execution_count": 46,
   "id": "23d12260",
   "metadata": {},
   "outputs": [
    {
     "name": "stdout",
     "output_type": "stream",
     "text": [
      "[[1 1 1]\n",
      " [0 2 2]\n",
      " [1 3 4]]\n"
     ]
    }
   ],
   "source": [
    "# 2c\n",
    "t_A = A.T\n",
    "print(t_A)"
   ]
  },
  {
   "cell_type": "code",
   "execution_count": 47,
   "id": "c7f5641a",
   "metadata": {},
   "outputs": [
    {
     "name": "stdout",
     "output_type": "stream",
     "text": [
      "[[ 6  2  5]\n",
      " [14  8  9]\n",
      " [17  9 10]]\n"
     ]
    }
   ],
   "source": [
    "# 2d\n",
    "AB = np.dot(A,B)\n",
    "print(AB)"
   ]
  },
  {
   "cell_type": "code",
   "execution_count": 48,
   "id": "800525cc",
   "metadata": {},
   "outputs": [
    {
     "name": "stdout",
     "output_type": "stream",
     "text": [
      "[[-11  -4 -15]\n",
      " [ -3  -6  -1]\n",
      " [-11  -2   0]]\n"
     ]
    }
   ],
   "source": [
    "# 2e\n",
    "mult = A-(4*B)\n",
    "print(mult)"
   ]
  },
  {
   "cell_type": "code",
   "execution_count": null,
   "id": "8902a9fc",
   "metadata": {},
   "outputs": [],
   "source": []
  }
 ],
 "metadata": {
  "kernelspec": {
   "display_name": "Python 3 (ipykernel)",
   "language": "python",
   "name": "python3"
  },
  "language_info": {
   "codemirror_mode": {
    "name": "ipython",
    "version": 3
   },
   "file_extension": ".py",
   "mimetype": "text/x-python",
   "name": "python",
   "nbconvert_exporter": "python",
   "pygments_lexer": "ipython3",
   "version": "3.9.13"
  }
 },
 "nbformat": 4,
 "nbformat_minor": 5
}
